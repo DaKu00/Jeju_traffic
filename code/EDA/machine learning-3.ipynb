{
 "cells": [
  {
   "cell_type": "code",
   "execution_count": 1,
   "id": "1ddd5571",
   "metadata": {},
   "outputs": [],
   "source": [
    "import pandas as pd\n",
    "import numpy as np\n",
    "from sklearn.preprocessing import LabelEncoder\n",
    "import lightgbm as lgb\n",
    "import gc"
   ]
  },
  {
   "cell_type": "code",
   "execution_count": 2,
   "id": "4e590821",
   "metadata": {},
   "outputs": [],
   "source": [
    "def csv_to_parquet(csv_path, save_name):\n",
    "    df = pd.read_csv(csv_path)\n",
    "    df.to_parquet('./' + save_name + '.parquet')\n",
    "    del df\n",
    "    gc.collect()\n",
    "    print(save_name, 'Done.')"
   ]
  },
  {
   "cell_type": "code",
   "execution_count": 3,
   "id": "93525833",
   "metadata": {},
   "outputs": [
    {
     "name": "stdout",
     "output_type": "stream",
     "text": [
      "train Done.\n",
      "test Done.\n"
     ]
    }
   ],
   "source": [
    "# pyarrow 설치 해야함, 9.0.0\n",
    "csv_to_parquet('C:/Users/soy66/Downloads/open/open/train.csv', 'train')\n",
    "csv_to_parquet('C:/Users/soy66/Downloads/open/open/test.csv', 'test')"
   ]
  },
  {
   "cell_type": "code",
   "execution_count": 4,
   "id": "6d362c7b",
   "metadata": {},
   "outputs": [],
   "source": [
    "train = pd.read_parquet('./train.parquet')\n",
    "test = pd.read_parquet('./test.parquet')"
   ]
  },
  {
   "cell_type": "code",
   "execution_count": 5,
   "id": "41c66d9c",
   "metadata": {},
   "outputs": [
    {
     "name": "stdout",
     "output_type": "stream",
     "text": [
      "day_of_week ['금' '목' '수' '월' '일' '토' '화']\n",
      "start_turn_restricted ['126.5066933' '126.5689231' '126.5692232' '126.5812301' '126.5815291'\n",
      " '33.25667094' '33.51983236' '33.52126402' '없음' '있음']\n",
      "end_turn_restricted ['126.5063927' '126.5066933' '126.5070142' '126.5815291' '126.5918723'\n",
      " '33.25667094' '33.49671062' '33.49686337' '33.50147749' '33.50162703'\n",
      " '33.51983236' '33.52109762' '33.52126402' '33.52139902' '서호동' '없음' '있음']\n"
     ]
    }
   ],
   "source": [
    "# [요일, 시작 지점의 회전제한 유무, 도착지점의 회전제한 유무]\n",
    "str_col = ['day_of_week','start_turn_restricted','end_turn_restricted']\n",
    "for i in str_col:\n",
    "    le = LabelEncoder()\n",
    "    le=le.fit(train[i])\n",
    "    train[i]=le.transform(train[i])\n",
    "    \n",
    "    for label in np.unique(test[i]):\n",
    "        if label not in le.classes_: \n",
    "            le.classes_ = np.append(le.classes_, label)\n",
    "            \n",
    "    print(i, le.classes_)\n",
    "    test[i]=le.transform(test[i])"
   ]
  },
  {
   "cell_type": "code",
   "execution_count": 6,
   "id": "ffd9fe9f",
   "metadata": {},
   "outputs": [
    {
     "name": "stdout",
     "output_type": "stream",
     "text": [
      "(1048575, 20)\n",
      "(1048575,)\n",
      "(291241, 16)\n"
     ]
    }
   ],
   "source": [
    "y_train = train['target'] \n",
    "\n",
    "# [아이디, 날짜, 평균속도, 도로명, 시작지점명, 도착지점명, 통과제한차량]\n",
    "X_train = train.drop(['id','base_date', 'target','road_name', 'start_node_name', 'end_node_name','vehicle_restricted'], axis=1)\n",
    "\n",
    "test = test.drop(['id','base_date', 'road_name', 'start_node_name', 'end_node_name','vehicle_restricted'], axis=1)\n",
    "\n",
    "print(X_train.shape)\n",
    "print(y_train.shape)\n",
    "print(test.shape)\n"
   ]
  },
  {
   "cell_type": "code",
   "execution_count": 7,
   "id": "62b12c0c",
   "metadata": {
    "collapsed": true
   },
   "outputs": [
    {
     "name": "stdout",
     "output_type": "stream",
     "text": [
      "<class 'pandas.core.frame.DataFrame'>\n",
      "RangeIndex: 1048575 entries, 0 to 1048574\n",
      "Data columns (total 27 columns):\n",
      " #   Column                 Non-Null Count    Dtype  \n",
      "---  ------                 --------------    -----  \n",
      " 0   id                     1048575 non-null  object \n",
      " 1   base_date              1048575 non-null  int64  \n",
      " 2   day_of_week            1048575 non-null  int32  \n",
      " 3   base_hour              1048575 non-null  int64  \n",
      " 4   lane_count             1048575 non-null  int64  \n",
      " 5   road_rating            1048575 non-null  int64  \n",
      " 6   road_name              1048575 non-null  object \n",
      " 7   multi_linked           1048575 non-null  int64  \n",
      " 8   connect_code           1048575 non-null  int64  \n",
      " 9   maximum_speed_limit    1048575 non-null  int64  \n",
      " 10  vehicle_restricted     1048575 non-null  int64  \n",
      " 11  weight_restricted      1048575 non-null  int64  \n",
      " 12  height_restricted      1048575 non-null  int64  \n",
      " 13  road_type              1048575 non-null  int64  \n",
      " 14  start_node_name        1048575 non-null  object \n",
      " 15  start_latitude         1048575 non-null  object \n",
      " 16  start_longitude        1048575 non-null  object \n",
      " 17  start_turn_restricted  1048575 non-null  int32  \n",
      " 18  end_node_name          1048575 non-null  object \n",
      " 19  end_latitude           1048575 non-null  object \n",
      " 20  end_longitude          1048575 non-null  object \n",
      " 21  end_turn_restricted    1048575 non-null  int32  \n",
      " 22  target                 1048575 non-null  object \n",
      " 23  Unnamed: 23            20888 non-null    object \n",
      " 24  Unnamed: 24            13387 non-null    float64\n",
      " 25  Unnamed: 25            159 non-null      object \n",
      " 26  Unnamed: 26            159 non-null      float64\n",
      "dtypes: float64(2), int32(3), int64(11), object(11)\n",
      "memory usage: 204.0+ MB\n"
     ]
    }
   ],
   "source": [
    "train.info()"
   ]
  },
  {
   "cell_type": "code",
   "execution_count": 10,
   "id": "674d7320",
   "metadata": {},
   "outputs": [],
   "source": [
    "A=train[train['road_name']=='-'].index"
   ]
  },
  {
   "cell_type": "code",
   "execution_count": null,
   "id": "aadf0d29",
   "metadata": {},
   "outputs": [],
   "source": [
    "#df_train.drop(A,axis='index',inplace=True)"
   ]
  },
  {
   "cell_type": "code",
   "execution_count": 11,
   "id": "afdaae9e",
   "metadata": {},
   "outputs": [],
   "source": [
    "train.drop(A,axis='index',inplace=True)"
   ]
  },
  {
   "cell_type": "code",
   "execution_count": 13,
   "id": "c9b746b9",
   "metadata": {},
   "outputs": [
    {
     "data": {
      "text/html": [
       "<div>\n",
       "<style scoped>\n",
       "    .dataframe tbody tr th:only-of-type {\n",
       "        vertical-align: middle;\n",
       "    }\n",
       "\n",
       "    .dataframe tbody tr th {\n",
       "        vertical-align: top;\n",
       "    }\n",
       "\n",
       "    .dataframe thead th {\n",
       "        text-align: right;\n",
       "    }\n",
       "</style>\n",
       "<table border=\"1\" class=\"dataframe\">\n",
       "  <thead>\n",
       "    <tr style=\"text-align: right;\">\n",
       "      <th></th>\n",
       "      <th>id</th>\n",
       "      <th>base_date</th>\n",
       "      <th>day_of_week</th>\n",
       "      <th>base_hour</th>\n",
       "      <th>lane_count</th>\n",
       "      <th>road_rating</th>\n",
       "      <th>road_name</th>\n",
       "      <th>multi_linked</th>\n",
       "      <th>connect_code</th>\n",
       "      <th>maximum_speed_limit</th>\n",
       "      <th>...</th>\n",
       "      <th>start_turn_restricted</th>\n",
       "      <th>end_node_name</th>\n",
       "      <th>end_latitude</th>\n",
       "      <th>end_longitude</th>\n",
       "      <th>end_turn_restricted</th>\n",
       "      <th>target</th>\n",
       "      <th>Unnamed: 23</th>\n",
       "      <th>Unnamed: 24</th>\n",
       "      <th>Unnamed: 25</th>\n",
       "      <th>Unnamed: 26</th>\n",
       "    </tr>\n",
       "  </thead>\n",
       "  <tbody>\n",
       "    <tr>\n",
       "      <th>0</th>\n",
       "      <td>TRAIN_0000000</td>\n",
       "      <td>20220623</td>\n",
       "      <td>1</td>\n",
       "      <td>17</td>\n",
       "      <td>1</td>\n",
       "      <td>106</td>\n",
       "      <td>지방도1112호선</td>\n",
       "      <td>0</td>\n",
       "      <td>0</td>\n",
       "      <td>60</td>\n",
       "      <td>...</td>\n",
       "      <td>8</td>\n",
       "      <td>제3교래교</td>\n",
       "      <td>33.42774877</td>\n",
       "      <td>126.662335</td>\n",
       "      <td>15</td>\n",
       "      <td>52</td>\n",
       "      <td>None</td>\n",
       "      <td>NaN</td>\n",
       "      <td>None</td>\n",
       "      <td>NaN</td>\n",
       "    </tr>\n",
       "    <tr>\n",
       "      <th>1</th>\n",
       "      <td>TRAIN_0000001</td>\n",
       "      <td>20220728</td>\n",
       "      <td>1</td>\n",
       "      <td>21</td>\n",
       "      <td>2</td>\n",
       "      <td>103</td>\n",
       "      <td>일반국도11호선</td>\n",
       "      <td>0</td>\n",
       "      <td>0</td>\n",
       "      <td>60</td>\n",
       "      <td>...</td>\n",
       "      <td>9</td>\n",
       "      <td>KAL사거리</td>\n",
       "      <td>33.5048113</td>\n",
       "      <td>126.5262401</td>\n",
       "      <td>15</td>\n",
       "      <td>30</td>\n",
       "      <td>None</td>\n",
       "      <td>NaN</td>\n",
       "      <td>None</td>\n",
       "      <td>NaN</td>\n",
       "    </tr>\n",
       "    <tr>\n",
       "      <th>2</th>\n",
       "      <td>TRAIN_0000002</td>\n",
       "      <td>20211010</td>\n",
       "      <td>4</td>\n",
       "      <td>7</td>\n",
       "      <td>2</td>\n",
       "      <td>103</td>\n",
       "      <td>일반국도16호선</td>\n",
       "      <td>0</td>\n",
       "      <td>0</td>\n",
       "      <td>80</td>\n",
       "      <td>...</td>\n",
       "      <td>8</td>\n",
       "      <td>상창육교</td>\n",
       "      <td>33.2800721</td>\n",
       "      <td>126.3621475</td>\n",
       "      <td>15</td>\n",
       "      <td>61</td>\n",
       "      <td>None</td>\n",
       "      <td>NaN</td>\n",
       "      <td>None</td>\n",
       "      <td>NaN</td>\n",
       "    </tr>\n",
       "    <tr>\n",
       "      <th>3</th>\n",
       "      <td>TRAIN_0000003</td>\n",
       "      <td>20220311</td>\n",
       "      <td>0</td>\n",
       "      <td>13</td>\n",
       "      <td>2</td>\n",
       "      <td>107</td>\n",
       "      <td>태평로</td>\n",
       "      <td>0</td>\n",
       "      <td>0</td>\n",
       "      <td>50</td>\n",
       "      <td>...</td>\n",
       "      <td>8</td>\n",
       "      <td>서현주택</td>\n",
       "      <td>33.2455654</td>\n",
       "      <td>126.5662282</td>\n",
       "      <td>15</td>\n",
       "      <td>20</td>\n",
       "      <td>None</td>\n",
       "      <td>NaN</td>\n",
       "      <td>None</td>\n",
       "      <td>NaN</td>\n",
       "    </tr>\n",
       "    <tr>\n",
       "      <th>4</th>\n",
       "      <td>TRAIN_0000004</td>\n",
       "      <td>20211005</td>\n",
       "      <td>6</td>\n",
       "      <td>8</td>\n",
       "      <td>2</td>\n",
       "      <td>103</td>\n",
       "      <td>일반국도12호선</td>\n",
       "      <td>0</td>\n",
       "      <td>0</td>\n",
       "      <td>80</td>\n",
       "      <td>...</td>\n",
       "      <td>8</td>\n",
       "      <td>애월입구</td>\n",
       "      <td>33.46267677</td>\n",
       "      <td>126.3301518</td>\n",
       "      <td>15</td>\n",
       "      <td>38</td>\n",
       "      <td>None</td>\n",
       "      <td>NaN</td>\n",
       "      <td>None</td>\n",
       "      <td>NaN</td>\n",
       "    </tr>\n",
       "  </tbody>\n",
       "</table>\n",
       "<p>5 rows × 27 columns</p>\n",
       "</div>"
      ],
      "text/plain": [
       "              id  base_date  day_of_week  base_hour  lane_count  road_rating  \\\n",
       "0  TRAIN_0000000   20220623            1         17           1          106   \n",
       "1  TRAIN_0000001   20220728            1         21           2          103   \n",
       "2  TRAIN_0000002   20211010            4          7           2          103   \n",
       "3  TRAIN_0000003   20220311            0         13           2          107   \n",
       "4  TRAIN_0000004   20211005            6          8           2          103   \n",
       "\n",
       "   road_name  multi_linked  connect_code  maximum_speed_limit  ...  \\\n",
       "0  지방도1112호선             0             0                   60  ...   \n",
       "1   일반국도11호선             0             0                   60  ...   \n",
       "2   일반국도16호선             0             0                   80  ...   \n",
       "3        태평로             0             0                   50  ...   \n",
       "4   일반국도12호선             0             0                   80  ...   \n",
       "\n",
       "   start_turn_restricted  end_node_name  end_latitude  end_longitude  \\\n",
       "0                      8          제3교래교   33.42774877     126.662335   \n",
       "1                      9         KAL사거리    33.5048113    126.5262401   \n",
       "2                      8           상창육교    33.2800721    126.3621475   \n",
       "3                      8           서현주택    33.2455654    126.5662282   \n",
       "4                      8           애월입구   33.46267677    126.3301518   \n",
       "\n",
       "  end_turn_restricted target Unnamed: 23  Unnamed: 24 Unnamed: 25 Unnamed: 26  \n",
       "0                  15     52        None          NaN        None         NaN  \n",
       "1                  15     30        None          NaN        None         NaN  \n",
       "2                  15     61        None          NaN        None         NaN  \n",
       "3                  15     20        None          NaN        None         NaN  \n",
       "4                  15     38        None          NaN        None         NaN  \n",
       "\n",
       "[5 rows x 27 columns]"
      ]
     },
     "execution_count": 13,
     "metadata": {},
     "output_type": "execute_result"
    }
   ],
   "source": [
    "train.head()"
   ]
  },
  {
   "cell_type": "code",
   "execution_count": 14,
   "id": "da226ff3",
   "metadata": {},
   "outputs": [],
   "source": [
    "train=train.drop(['Unnamed: 23','Unnamed: 24','Unnamed: 25','Unnamed: 26'],axis=1)"
   ]
  },
  {
   "cell_type": "code",
   "execution_count": 15,
   "id": "7f1e19a1",
   "metadata": {},
   "outputs": [
    {
     "name": "stdout",
     "output_type": "stream",
     "text": [
      "<class 'pandas.core.frame.DataFrame'>\n",
      "Int64Index: 921337 entries, 0 to 1048574\n",
      "Data columns (total 23 columns):\n",
      " #   Column                 Non-Null Count   Dtype \n",
      "---  ------                 --------------   ----- \n",
      " 0   id                     921337 non-null  object\n",
      " 1   base_date              921337 non-null  int64 \n",
      " 2   day_of_week            921337 non-null  int32 \n",
      " 3   base_hour              921337 non-null  int64 \n",
      " 4   lane_count             921337 non-null  int64 \n",
      " 5   road_rating            921337 non-null  int64 \n",
      " 6   road_name              921337 non-null  object\n",
      " 7   multi_linked           921337 non-null  int64 \n",
      " 8   connect_code           921337 non-null  int64 \n",
      " 9   maximum_speed_limit    921337 non-null  int64 \n",
      " 10  vehicle_restricted     921337 non-null  int64 \n",
      " 11  weight_restricted      921337 non-null  int64 \n",
      " 12  height_restricted      921337 non-null  int64 \n",
      " 13  road_type              921337 non-null  int64 \n",
      " 14  start_node_name        921337 non-null  object\n",
      " 15  start_latitude         921337 non-null  object\n",
      " 16  start_longitude        921337 non-null  object\n",
      " 17  start_turn_restricted  921337 non-null  int32 \n",
      " 18  end_node_name          921337 non-null  object\n",
      " 19  end_latitude           921337 non-null  object\n",
      " 20  end_longitude          921337 non-null  object\n",
      " 21  end_turn_restricted    921337 non-null  int32 \n",
      " 22  target                 921337 non-null  object\n",
      "dtypes: int32(3), int64(11), object(9)\n",
      "memory usage: 158.2+ MB\n"
     ]
    }
   ],
   "source": [
    "train.info()"
   ]
  },
  {
   "cell_type": "code",
   "execution_count": 16,
   "id": "71cb900e",
   "metadata": {},
   "outputs": [
    {
     "data": {
      "text/plain": [
       "0          지방도1112호선\n",
       "1           일반국도11호선\n",
       "2           일반국도16호선\n",
       "3                태평로\n",
       "4           일반국도12호선\n",
       "             ...    \n",
       "1048570     일반국도12호선\n",
       "1048571    지방도1132호선\n",
       "1048572        관광단지로\n",
       "1048573         새서귀로\n",
       "1048574          번영로\n",
       "Name: road_name, Length: 921337, dtype: object"
      ]
     },
     "execution_count": 16,
     "metadata": {},
     "output_type": "execute_result"
    }
   ],
   "source": [
    "# 도로명 중 중복값 \n",
    "train['road_name']"
   ]
  },
  {
   "cell_type": "code",
   "execution_count": null,
   "id": "afc5d294",
   "metadata": {},
   "outputs": [],
   "source": []
  }
 ],
 "metadata": {
  "kernelspec": {
   "display_name": "Python 3 (ipykernel)",
   "language": "python",
   "name": "python3"
  },
  "language_info": {
   "codemirror_mode": {
    "name": "ipython",
    "version": 3
   },
   "file_extension": ".py",
   "mimetype": "text/x-python",
   "name": "python",
   "nbconvert_exporter": "python",
   "pygments_lexer": "ipython3",
   "version": "3.8.13"
  }
 },
 "nbformat": 4,
 "nbformat_minor": 5
}
