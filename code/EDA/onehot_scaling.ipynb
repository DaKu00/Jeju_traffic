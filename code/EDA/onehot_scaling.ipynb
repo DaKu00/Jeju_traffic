{
 "cells": [
  {
   "cell_type": "code",
   "execution_count": 4,
   "id": "66da40d0",
   "metadata": {},
   "outputs": [],
   "source": [
    "import pandas as pd\n",
    "import numpy as np\n",
    "from sklearn.preprocessing import LabelEncoder\n",
    "import lightgbm as lgb\n",
    "from sklearn.metrics import mean_absolute_error\n",
    "from sklearn.model_selection import GridSearchCV"
   ]
  },
  {
   "cell_type": "code",
   "execution_count": 2,
   "id": "19215cd8",
   "metadata": {},
   "outputs": [
    {
     "data": {
      "text/html": [
       "<div>\n",
       "<style scoped>\n",
       "    .dataframe tbody tr th:only-of-type {\n",
       "        vertical-align: middle;\n",
       "    }\n",
       "\n",
       "    .dataframe tbody tr th {\n",
       "        vertical-align: top;\n",
       "    }\n",
       "\n",
       "    .dataframe thead th {\n",
       "        text-align: right;\n",
       "    }\n",
       "</style>\n",
       "<table border=\"1\" class=\"dataframe\">\n",
       "  <thead>\n",
       "    <tr style=\"text-align: right;\">\n",
       "      <th></th>\n",
       "      <th>id</th>\n",
       "      <th>base_date</th>\n",
       "      <th>day_of_week</th>\n",
       "      <th>base_hour</th>\n",
       "      <th>lane_count</th>\n",
       "      <th>road_rating</th>\n",
       "      <th>road_name</th>\n",
       "      <th>multi_linked</th>\n",
       "      <th>connect_code</th>\n",
       "      <th>maximum_speed_limit</th>\n",
       "      <th>...</th>\n",
       "      <th>start_latitude</th>\n",
       "      <th>start_longitude</th>\n",
       "      <th>start_turn_restricted</th>\n",
       "      <th>end_node_name</th>\n",
       "      <th>end_latitude</th>\n",
       "      <th>end_longitude</th>\n",
       "      <th>end_turn_restricted</th>\n",
       "      <th>target</th>\n",
       "      <th>weekend</th>\n",
       "      <th>month</th>\n",
       "    </tr>\n",
       "  </thead>\n",
       "  <tbody>\n",
       "    <tr>\n",
       "      <th>0</th>\n",
       "      <td>TRAIN_0000000</td>\n",
       "      <td>20220623</td>\n",
       "      <td>1</td>\n",
       "      <td>17</td>\n",
       "      <td>1</td>\n",
       "      <td>106</td>\n",
       "      <td>지방도1112호선</td>\n",
       "      <td>0</td>\n",
       "      <td>0</td>\n",
       "      <td>60.0</td>\n",
       "      <td>...</td>\n",
       "      <td>33.427747</td>\n",
       "      <td>126.662612</td>\n",
       "      <td>0</td>\n",
       "      <td>제3교래교</td>\n",
       "      <td>33.427749</td>\n",
       "      <td>126.662335</td>\n",
       "      <td>0</td>\n",
       "      <td>52.0</td>\n",
       "      <td>0</td>\n",
       "      <td>6</td>\n",
       "    </tr>\n",
       "    <tr>\n",
       "      <th>1</th>\n",
       "      <td>TRAIN_0000001</td>\n",
       "      <td>20220728</td>\n",
       "      <td>1</td>\n",
       "      <td>21</td>\n",
       "      <td>2</td>\n",
       "      <td>103</td>\n",
       "      <td>일반국도11호선</td>\n",
       "      <td>0</td>\n",
       "      <td>0</td>\n",
       "      <td>60.0</td>\n",
       "      <td>...</td>\n",
       "      <td>33.500730</td>\n",
       "      <td>126.529107</td>\n",
       "      <td>1</td>\n",
       "      <td>KAL사거리</td>\n",
       "      <td>33.504811</td>\n",
       "      <td>126.526240</td>\n",
       "      <td>0</td>\n",
       "      <td>30.0</td>\n",
       "      <td>0</td>\n",
       "      <td>7</td>\n",
       "    </tr>\n",
       "    <tr>\n",
       "      <th>2</th>\n",
       "      <td>TRAIN_0000002</td>\n",
       "      <td>20211010</td>\n",
       "      <td>4</td>\n",
       "      <td>7</td>\n",
       "      <td>2</td>\n",
       "      <td>103</td>\n",
       "      <td>일반국도16호선</td>\n",
       "      <td>0</td>\n",
       "      <td>0</td>\n",
       "      <td>80.0</td>\n",
       "      <td>...</td>\n",
       "      <td>33.279145</td>\n",
       "      <td>126.368598</td>\n",
       "      <td>0</td>\n",
       "      <td>상창육교</td>\n",
       "      <td>33.280072</td>\n",
       "      <td>126.362147</td>\n",
       "      <td>0</td>\n",
       "      <td>61.0</td>\n",
       "      <td>1</td>\n",
       "      <td>10</td>\n",
       "    </tr>\n",
       "    <tr>\n",
       "      <th>3</th>\n",
       "      <td>TRAIN_0000003</td>\n",
       "      <td>20220311</td>\n",
       "      <td>0</td>\n",
       "      <td>13</td>\n",
       "      <td>2</td>\n",
       "      <td>107</td>\n",
       "      <td>태평로</td>\n",
       "      <td>0</td>\n",
       "      <td>0</td>\n",
       "      <td>50.0</td>\n",
       "      <td>...</td>\n",
       "      <td>33.246081</td>\n",
       "      <td>126.567204</td>\n",
       "      <td>0</td>\n",
       "      <td>서현주택</td>\n",
       "      <td>33.245565</td>\n",
       "      <td>126.566228</td>\n",
       "      <td>0</td>\n",
       "      <td>20.0</td>\n",
       "      <td>0</td>\n",
       "      <td>3</td>\n",
       "    </tr>\n",
       "    <tr>\n",
       "      <th>4</th>\n",
       "      <td>TRAIN_0000004</td>\n",
       "      <td>20211005</td>\n",
       "      <td>6</td>\n",
       "      <td>8</td>\n",
       "      <td>2</td>\n",
       "      <td>103</td>\n",
       "      <td>일반국도12호선</td>\n",
       "      <td>0</td>\n",
       "      <td>0</td>\n",
       "      <td>80.0</td>\n",
       "      <td>...</td>\n",
       "      <td>33.462214</td>\n",
       "      <td>126.326551</td>\n",
       "      <td>0</td>\n",
       "      <td>애월입구</td>\n",
       "      <td>33.462677</td>\n",
       "      <td>126.330152</td>\n",
       "      <td>0</td>\n",
       "      <td>38.0</td>\n",
       "      <td>0</td>\n",
       "      <td>10</td>\n",
       "    </tr>\n",
       "  </tbody>\n",
       "</table>\n",
       "<p>5 rows × 25 columns</p>\n",
       "</div>"
      ],
      "text/plain": [
       "              id  base_date  day_of_week  base_hour  lane_count  road_rating  \\\n",
       "0  TRAIN_0000000   20220623            1         17           1          106   \n",
       "1  TRAIN_0000001   20220728            1         21           2          103   \n",
       "2  TRAIN_0000002   20211010            4          7           2          103   \n",
       "3  TRAIN_0000003   20220311            0         13           2          107   \n",
       "4  TRAIN_0000004   20211005            6          8           2          103   \n",
       "\n",
       "   road_name  multi_linked  connect_code  maximum_speed_limit  ...  \\\n",
       "0  지방도1112호선             0             0                 60.0  ...   \n",
       "1   일반국도11호선             0             0                 60.0  ...   \n",
       "2   일반국도16호선             0             0                 80.0  ...   \n",
       "3        태평로             0             0                 50.0  ...   \n",
       "4   일반국도12호선             0             0                 80.0  ...   \n",
       "\n",
       "   start_latitude  start_longitude  start_turn_restricted  end_node_name  \\\n",
       "0       33.427747       126.662612                      0          제3교래교   \n",
       "1       33.500730       126.529107                      1         KAL사거리   \n",
       "2       33.279145       126.368598                      0           상창육교   \n",
       "3       33.246081       126.567204                      0           서현주택   \n",
       "4       33.462214       126.326551                      0           애월입구   \n",
       "\n",
       "  end_latitude  end_longitude  end_turn_restricted  target weekend  month  \n",
       "0    33.427749     126.662335                    0    52.0       0      6  \n",
       "1    33.504811     126.526240                    0    30.0       0      7  \n",
       "2    33.280072     126.362147                    0    61.0       1     10  \n",
       "3    33.245565     126.566228                    0    20.0       0      3  \n",
       "4    33.462677     126.330152                    0    38.0       0     10  \n",
       "\n",
       "[5 rows x 25 columns]"
      ]
     },
     "execution_count": 2,
     "metadata": {},
     "output_type": "execute_result"
    }
   ],
   "source": [
    "# 데이터 로드\n",
    "\n",
    "train = pd.read_parquet('./train_fin.parquet')\n",
    "train.head()"
   ]
  },
  {
   "cell_type": "code",
   "execution_count": 5,
   "id": "15527302",
   "metadata": {},
   "outputs": [],
   "source": [
    "# 원핫인코딩 데이터 전처리 후에 아래 데이터 나누는 코드 실행\n",
    "\n",
    "train = pd.concat([train, pd.get_dummies(train['base_hour'].apply(lambda x : int(x / 6)))] ,axis = 1).drop(['base_hour', 'month'], axis = 1)\n",
    "train.rename(columns = {0 : 'h_0', 1 : 'h_1', 2 : 'h_2', 3 : 'h_3'}, inplace = True)"
   ]
  },
  {
   "cell_type": "code",
   "execution_count": 15,
   "id": "2e3219d0",
   "metadata": {},
   "outputs": [
    {
     "data": {
      "text/plain": [
       "Index(['id', 'base_date', 'day_of_week', 'lane_count', 'road_rating',\n",
       "       'road_name', 'multi_linked', 'connect_code', 'maximum_speed_limit',\n",
       "       'vehicle_restricted', 'weight_restricted', 'height_restricted',\n",
       "       'road_type', 'start_node_name', 'start_latitude', 'start_longitude',\n",
       "       'start_turn_restricted', 'end_node_name', 'end_latitude',\n",
       "       'end_longitude', 'end_turn_restricted', 'target', 'weekend', 'h_0',\n",
       "       'h_1', 'h_2', 'h_3'],\n",
       "      dtype='object')"
      ]
     },
     "execution_count": 15,
     "metadata": {},
     "output_type": "execute_result"
    }
   ],
   "source": [
    "train.columns"
   ]
  },
  {
   "cell_type": "code",
   "execution_count": 7,
   "id": "9e985a11",
   "metadata": {},
   "outputs": [
    {
     "name": "stderr",
     "output_type": "stream",
     "text": [
      "C:\\Users\\knzss\\AppData\\Local\\Temp\\ipykernel_17060\\2061329703.py:5: UserWarning: Boolean Series key will be reindexed to match DataFrame index.\n",
      "  tr = shuffle(train.sort_values('base_date')[train['base_date'] < 20220701])\n",
      "C:\\Users\\knzss\\AppData\\Local\\Temp\\ipykernel_17060\\2061329703.py:6: UserWarning: Boolean Series key will be reindexed to match DataFrame index.\n",
      "  te = shuffle(train.sort_values('base_date')[train['base_date'] > 20220631])\n"
     ]
    },
    {
     "name": "stdout",
     "output_type": "stream",
     "text": [
      "(4426522, 16)\n",
      "(4426522,)\n",
      "(274695, 16)\n"
     ]
    }
   ],
   "source": [
    "# 데이터 수정후 데이터 분리 진행 부탁드립니다\n",
    "\n",
    "from sklearn.utils import shuffle\n",
    "\n",
    "tr = shuffle(train.sort_values('base_date')[train['base_date'] < 20220701])\n",
    "te = shuffle(train.sort_values('base_date')[train['base_date'] > 20220631])\n",
    "\n",
    "y_train = tr['target']\n",
    "X_train = tr.drop(['day_of_week', 'multi_linked', 'connect_code', 'height_restricted', 'id','base_date', 'target','road_name', 'start_node_name', 'end_node_name','vehicle_restricted'], axis=1)\n",
    "\n",
    "\n",
    "y_test = te['target']\n",
    "X_test = te.drop(['day_of_week', 'multi_linked', 'connect_code', 'height_restricted', 'id','base_date', 'target','road_name', 'start_node_name', 'end_node_name','vehicle_restricted'], axis=1)\n",
    "\n",
    "\n",
    "print(X_train.shape)\n",
    "print(y_train.shape)\n",
    "print(X_test.shape)"
   ]
  },
  {
   "cell_type": "markdown",
   "id": "64c2b541",
   "metadata": {},
   "source": [
    "## 저장된 데이터 셋이 공휴일 컬럼이 추가된 상태라 \n",
    "## 기본 파라미터상태에서의 원핫인코딩 결과가 의미가 없을듯 합니다. 비교군이 달라져서요\n",
    "## 기본 데이터에서의 기본 파라미터인데 데이터가 공휴일이 추가된 데이터라\n",
    "## 아래 파라미터 하나만으로 원핫인코딩 테스트 진행하셔도 될듯합니다!!"
   ]
  },
  {
   "cell_type": "code",
   "execution_count": 16,
   "id": "e78e9565",
   "metadata": {},
   "outputs": [
    {
     "name": "stdout",
     "output_type": "stream",
     "text": [
      "weekend_onehot :  4.390580733694007\n"
     ]
    }
   ],
   "source": [
    "# 원핫인코딩(시간) 테스트\n",
    "\n",
    "min_num = 10\n",
    "min_stack = 0\n",
    "stop_num = 3\n",
    "\n",
    "LR = lgb.LGBMRegressor(random_state = 42,\n",
    "                       max_depth = 19,\n",
    "                       num_leaves = 187,\n",
    "                       n_estimators = 1000,\n",
    "                       learning_rate = 0.6,\n",
    "                      ).fit(X_train, y_train)\n",
    "\n",
    "pred = LR.predict(X_test)\n",
    "mae = mean_absolute_error(pred, y_test)\n",
    "\n",
    "print('weekend_onehot : ', mae)\n"
   ]
  },
  {
   "cell_type": "markdown",
   "id": "9f215a96",
   "metadata": {},
   "source": [
    "# 스케일링 테스트"
   ]
  },
  {
   "cell_type": "code",
   "execution_count": null,
   "id": "e73bb595",
   "metadata": {},
   "outputs": [],
   "source": [
    "# 데이터 로드\n",
    "\n",
    "train = pd.read_parquet('./train_fin.parquet')\n",
    "train.head()"
   ]
  },
  {
   "cell_type": "code",
   "execution_count": null,
   "id": "f2317e10",
   "metadata": {},
   "outputs": [],
   "source": [
    "# 스케일링처리 코드\n",
    "\n"
   ]
  },
  {
   "cell_type": "code",
   "execution_count": null,
   "id": "bc72b032",
   "metadata": {},
   "outputs": [],
   "source": [
    "# 데이터 수정후 데이터 분리 진행 부탁드립니다\n",
    "\n",
    "from sklearn.utils import shuffle\n",
    "\n",
    "tr = shuffle(train.sort_values('base_date')[train['base_date'] < 20220701])\n",
    "te = shuffle(train.sort_values('base_date')[train['base_date'] > 20220631])\n",
    "\n",
    "y_train = tr['target']\n",
    "X_train = tr.drop(['day_of_week', 'multi_linked', 'connect_code', 'height_restricted', 'id','base_date', 'target','road_name', 'start_node_name', 'end_node_name','vehicle_restricted'], axis=1)\n",
    "\n",
    "\n",
    "y_test = te['target']\n",
    "X_test = te.drop(['day_of_week', 'multi_linked', 'connect_code', 'height_restricted', 'id','base_date', 'target','road_name', 'start_node_name', 'end_node_name','vehicle_restricted'], axis=1)\n",
    "\n",
    "\n",
    "print(X_train.shape)\n",
    "print(y_train.shape)\n",
    "print(X_test.shape)"
   ]
  },
  {
   "cell_type": "code",
   "execution_count": null,
   "id": "62a02a5e",
   "metadata": {},
   "outputs": [],
   "source": [
    "min_num = 10\n",
    "min_stack = 0\n",
    "stop_num = 3\n",
    "\n",
    "LR = lgb.LGBMRegressor(random_state = 42,\n",
    "                       max_depth = 19,\n",
    "                       num_leaves = 187,\n",
    "                       n_estimators = 1000,\n",
    "                       learning_rate = 0.6,\n",
    "                      ).fit(X_train, y_train)\n",
    "\n",
    "pred = LR.predict(X_test)\n",
    "mae = mean_absolute_error(pred, y_test)\n",
    "\n",
    "# mae 값이 3.55와 근접하다면 for문으로 파라미터 테스트 간단하게 또 진행하도록 하겠습니다.\n",
    "# 근접하다면 말해주세용\n",
    "print('scaling : ', mae)"
   ]
  },
  {
   "cell_type": "markdown",
   "id": "6df10d4e",
   "metadata": {},
   "source": [
    "## 혹시 몰라서 for 문 파라미터 테스트 코드입니다"
   ]
  },
  {
   "cell_type": "code",
   "execution_count": 14,
   "id": "4adcaa79",
   "metadata": {
    "scrolled": true
   },
   "outputs": [
    {
     "name": "stdout",
     "output_type": "stream",
     "text": [
      "파라미터 값  :  1002 , mae :  4.390580643260661\n"
     ]
    },
    {
     "ename": "SyntaxError",
     "evalue": "'break' outside loop (2641391234.py, line 46)",
     "output_type": "error",
     "traceback": [
      "\u001b[1;36m  File \u001b[1;32m\"C:\\Users\\knzss\\AppData\\Local\\Temp\\ipykernel_17060\\2641391234.py\"\u001b[1;36m, line \u001b[1;32m46\u001b[0m\n\u001b[1;33m    break\u001b[0m\n\u001b[1;37m    ^\u001b[0m\n\u001b[1;31mSyntaxError\u001b[0m\u001b[1;31m:\u001b[0m 'break' outside loop\n"
     ]
    }
   ],
   "source": [
    "# 파라미터 테스트 범위 책정,\n",
    "min_num_t = 1000\n",
    "max_num_t = 1010\n",
    "\n",
    "min_num = 10\n",
    "min_stack = 0\n",
    "\n",
    "# mae값이 3번째 커지면 for문이 종료됩니다\n",
    "stop_num = 2\n",
    "\n",
    "\n",
    "# 저는 파라미터 하나씩 주석을 풀면서 했습니다.\n",
    "# 아래와 같이 하면 max_depth 파라미터 테스트\n",
    "# max_depth를 주석처리하고 num_leaves만 주석을 해제하면 num_leaves 테스트\n",
    "\n",
    "# for i in range(min_num_t, max_num_t + 1):\n",
    "LR = lgb.LGBMRegressor(random_state = 42,\n",
    "\n",
    "                       max_depth = 19,      # 20\n",
    "\n",
    "                       num_leaves = 187,     # 200\n",
    "\n",
    "                       n_estimators = 1000,   # 1000\n",
    "\n",
    "                       learning_rate = 0.3,  # 0.6\n",
    "\n",
    "#                            min_split_gain = (i / 100), # 0.0 mae값이 올라버림, 값이 오름에 따라\n",
    "#                            min_child_weight = (i / 1000), # 영향 미비\n",
    "#                            min_child_samples = i, # 20 미비\n",
    "#                            colsample_bytree = (i / 10), # 1.0이 젤 좋음\n",
    "#                            reg_lambda = (i / 100),\n",
    "                      ).fit(X_train, y_train)\n",
    "\n",
    "pred = LR.predict(X_test)\n",
    "mae = mean_absolute_error(pred, y_test)\n",
    "\n",
    "print('파라미터 값  : ', i, ', mae : ', mae)\n",
    "\n",
    "if min_num > mae:\n",
    "    min_stack = 0\n",
    "    min_num = mae\n",
    "elif min_stack != stop_num:\n",
    "    min_stack += 1\n",
    "    min_num = mae\n",
    "elif min_stack == stop_num:\n",
    "    break"
   ]
  },
  {
   "cell_type": "code",
   "execution_count": null,
   "id": "5248b729",
   "metadata": {},
   "outputs": [],
   "source": []
  }
 ],
 "metadata": {
  "kernelspec": {
   "display_name": "Python 3 (ipykernel)",
   "language": "python",
   "name": "python3"
  },
  "language_info": {
   "codemirror_mode": {
    "name": "ipython",
    "version": 3
   },
   "file_extension": ".py",
   "mimetype": "text/x-python",
   "name": "python",
   "nbconvert_exporter": "python",
   "pygments_lexer": "ipython3",
   "version": "3.9.13"
  }
 },
 "nbformat": 4,
 "nbformat_minor": 5
}
